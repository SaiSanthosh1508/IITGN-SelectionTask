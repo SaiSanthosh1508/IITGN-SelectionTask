{
  "nbformat": 4,
  "nbformat_minor": 0,
  "metadata": {
    "colab": {
      "provenance": []
    },
    "kernelspec": {
      "name": "python3",
      "display_name": "Python 3"
    },
    "language_info": {
      "name": "python"
    }
  },
  "cells": [
    {
      "cell_type": "code",
      "execution_count": 1,
      "metadata": {
        "colab": {
          "base_uri": "https://localhost:8080/"
        },
        "id": "kX77syljCp68",
        "outputId": "7bae1cef-500d-411c-e542-e98ba7e4bad0"
      },
      "outputs": [
        {
          "output_type": "stream",
          "name": "stdout",
          "text": [
            "Downloading...\n",
            "From: https://drive.google.com/uc?id=198uCuLf26DkECPvHS8GaDM7TD8sQ9RLh\n",
            "To: /content/labels-20250212T103318Z-001.zip\n",
            "100% 3.63M/3.63M [00:00<00:00, 30.6MB/s]\n",
            "Downloading...\n",
            "From (original): https://drive.google.com/uc?id=1OtHiSNb34oRptjsl-CohoRCGISRKVLaq\n",
            "From (redirected): https://drive.google.com/uc?id=1OtHiSNb34oRptjsl-CohoRCGISRKVLaq&confirm=t&uuid=52f53fbd-0a18-4621-b8ab-793f4c02d399\n",
            "To: /content/image_chips_native-20250212T103727Z-001.zip\n",
            "100% 891M/891M [00:15<00:00, 57.0MB/s]\n"
          ]
        }
      ],
      "source": [
        "!gdown 198uCuLf26DkECPvHS8GaDM7TD8sQ9RLh\n",
        "!gdown 1OtHiSNb34oRptjsl-CohoRCGISRKVLaq"
      ]
    },
    {
      "cell_type": "code",
      "source": [
        "!unzip -q /content/image_chips_native-20250212T103727Z-001.zip\n",
        "!unzip -q /content/labels-20250212T103318Z-001.zip"
      ],
      "metadata": {
        "id": "19SdXkKCCxW8"
      },
      "execution_count": 2,
      "outputs": []
    },
    {
      "cell_type": "code",
      "source": [
        "# Import required libraries\n",
        "import os\n",
        "import shutil\n",
        "import random\n",
        "import numpy as np\n",
        "import pandas as pd\n",
        "from PIL import Image,ImageDraw\n",
        "import matplotlib.pyplot as plt\n",
        "import matplotlib.image as mpimg"
      ],
      "metadata": {
        "id": "dBcWIAa4DIow"
      },
      "execution_count": 4,
      "outputs": []
    },
    {
      "cell_type": "markdown",
      "source": [
        "# Data Exploration and Understanding"
      ],
      "metadata": {
        "id": "Tdl8csICCyxW"
      }
    },
    {
      "cell_type": "markdown",
      "source": [
        "## 1. Dataset statistics"
      ],
      "metadata": {
        "id": "-S2CZP5aC7GG"
      }
    },
    {
      "cell_type": "markdown",
      "source": [
        "### a. How many instances of solar panels are present in the dataset?"
      ],
      "metadata": {
        "id": "Y3J49oS8DAfx"
      }
    },
    {
      "cell_type": "code",
      "source": [
        "img_dir = \"/content/image_chips_native/\"\n",
        "label_dir = \"/content/labels/labels_native/\"\n",
        "\n",
        "solar_panel_count = 0\n",
        "\n",
        "for file in sorted(os.listdir(label_dir)):\n",
        "  with open(label_dir+file,\"r\") as f:\n",
        "    solar_panel_count += len(f.read().splitlines())\n",
        "\n",
        "print(f\"The Total number of instances present in the dataset are: {solar_panel_count}\")"
      ],
      "metadata": {
        "colab": {
          "base_uri": "https://localhost:8080/"
        },
        "id": "uv2TFRD1DDnu",
        "outputId": "2ef6cd91-87da-4395-9277-dcd416deb942"
      },
      "execution_count": 5,
      "outputs": [
        {
          "output_type": "stream",
          "name": "stdout",
          "text": [
            "The Total number of instances present in the dataset are: 29625\n"
          ]
        }
      ]
    },
    {
      "cell_type": "markdown",
      "source": [],
      "metadata": {
        "id": "SyCG9GgKDyBu"
      }
    },
    {
      "cell_type": "markdown",
      "source": [
        "### b. Compute and show the value counts of labels per image. E.g., X images have 0 labels, Y images have 1 label, … and so on."
      ],
      "metadata": {
        "id": "GPeE7CocDogj"
      }
    },
    {
      "cell_type": "code",
      "source": [
        "import numpy as np\n",
        "import pandas as pd\n",
        "\n",
        "labels_to_images = {}\n",
        "\n",
        "for file in sorted(os.listdir(label_dir)):\n",
        "  with open(label_dir+file,\"r\") as f:\n",
        "    boxes = f.read().splitlines()\n",
        "    labels_to_images[len(boxes)] = labels_to_images.get(len(boxes),0) + 1\n",
        "\n",
        "sorted_dict = {}\n",
        "for key in sorted(labels_to_images.keys()):\n",
        "  sorted_dict[key] = labels_to_images[key]\n",
        "print(\"The count of labels per image:\\n\",sorted_dict)\n",
        "df = pd.DataFrame(sorted_dict,index=[\"Count\"]).T\n",
        "plt.bar(df.index,df[\"Count\"])\n",
        "plt.title(\"No.of Images v/s Boundingboxes per image\")\n",
        "plt.xlabel(\"Number of Bounding Boxes per image\")\n",
        "plt.ylabel(\"Image count\")\n",
        "plt.show()"
      ],
      "metadata": {
        "colab": {
          "base_uri": "https://localhost:8080/",
          "height": 527
        },
        "id": "mxodemEDDzI-",
        "outputId": "a81b8f78-52b6-4423-90a9-143488182507"
      },
      "execution_count": 23,
      "outputs": [
        {
          "output_type": "stream",
          "name": "stdout",
          "text": [
            "The count of labels per image:\n",
            " {1: 81, 2: 167, 3: 221, 4: 218, 5: 217, 6: 189, 7: 170, 8: 184, 9: 169, 10: 121, 11: 97, 12: 84, 13: 69, 14: 49, 15: 46, 16: 41, 17: 36, 18: 25, 19: 29, 20: 14, 21: 4, 22: 1, 23: 4, 24: 2, 25: 4, 26: 3, 27: 5, 28: 5, 29: 15, 30: 20, 31: 8, 32: 7, 33: 13, 34: 19, 35: 10, 36: 6, 37: 17, 38: 13, 39: 6, 40: 9, 41: 10, 42: 12, 43: 11, 44: 4, 45: 2, 46: 5, 47: 9, 48: 3, 49: 5, 50: 6, 51: 9, 52: 16, 53: 4, 54: 6, 55: 1, 56: 1, 58: 3, 59: 2, 60: 2, 61: 1, 62: 6, 63: 3, 64: 1, 65: 3, 66: 4, 67: 1, 71: 1, 72: 1, 73: 1, 74: 5, 75: 1, 76: 2, 77: 2, 78: 1}\n"
          ]
        },
        {
          "output_type": "display_data",
          "data": {
            "text/plain": [
              "<Figure size 640x480 with 1 Axes>"
            ],
            "image/png": "[encoded data removed]"
          },
          "metadata": {}
        }
      ]
    },
    {
      "cell_type": "code",
      "source": [
        "df = pd.DataFrame(sorted_dict.items(), columns=[\"BBoxes per Image\", \"Number of Images\"])\n",
        "\n",
        "# Hide index when displaying in Jupyter Notebook / Google Colab\n",
        "df.style.hide(axis=\"index\")\n",
        "df.to_csv(\"bboxes_per_image_count.csv\")\n",
        "df.head(10)"
      ],
      "metadata": {
        "colab": {
          "base_uri": "https://localhost:8080/",
          "height": 363
        },
        "id": "iaRrXTQ9Ljf9",
        "outputId": "32fb5e3e-f39a-4264-9a18-93ba824fa47b"
      },
      "execution_count": 71,
      "outputs": [
        {
          "output_type": "execute_result",
          "data": {
            "text/plain": [
              "   BBoxes per Image  Number of Images\n",
              "0                 1                81\n",
              "1                 2               167\n",
              "2                 3               221\n",
              "3                 4               218\n",
              "4                 5               217\n",
              "5                 6               189\n",
              "6                 7               170\n",
              "7                 8               184\n",
              "8                 9               169\n",
              "9                10               121"
            ],
            "text/html": [
              "\n",
              "  <div id=\"df-fa179aea-2613-440f-83b5-cd09603bfbcf\" class=\"colab-df-container\">\n",
              "    <div>\n",
              "<style scoped>\n",
              "    .dataframe tbody tr th:only-of-type {\n",
              "        vertical-align: middle;\n",
              "    }\n",
              "\n",
              "    .dataframe tbody tr th {\n",
              "        vertical-align: top;\n",
              "    }\n",
              "\n",
              "    .dataframe thead th {\n",
              "        text-align: right;\n",
              "    }\n",
              "</style>\n",
              "<table border=\"1\" class=\"dataframe\">\n",
              "  <thead>\n",
              "    <tr style=\"text-align: right;\">\n",
              "      <th></th>\n",
              "      <th>BBoxes per Image</th>\n",
              "      <th>Number of Images</th>\n",
              "    </tr>\n",
              "  </thead>\n",
              "  <tbody>\n",
              "    <tr>\n",
              "      <th>0</th>\n",
              "      <td>1</td>\n",
              "      <td>81</td>\n",
              "    </tr>\n",
              "    <tr>\n",
              "      <th>1</th>\n",
              "      <td>2</td>\n",
              "      <td>167</td>\n",
              "    </tr>\n",
              "    <tr>\n",
              "      <th>2</th>\n",
              "      <td>3</td>\n",
              "      <td>221</td>\n",
              "    </tr>\n",
              "    <tr>\n",
              "      <th>3</th>\n",
              "      <td>4</td>\n",
              "      <td>218</td>\n",
              "    </tr>\n",
              "    <tr>\n",
              "      <th>4</th>\n",
              "      <td>5</td>\n",
              "      <td>217</td>\n",
              "    </tr>\n",
              "    <tr>\n",
              "      <th>5</th>\n",
              "      <td>6</td>\n",
              "      <td>189</td>\n",
              "    </tr>\n",
              "    <tr>\n",
              "      <th>6</th>\n",
              "      <td>7</td>\n",
              "      <td>170</td>\n",
              "    </tr>\n",
              "    <tr>\n",
              "      <th>7</th>\n",
              "      <td>8</td>\n",
              "      <td>184</td>\n",
              "    </tr>\n",
              "    <tr>\n",
              "      <th>8</th>\n",
              "      <td>9</td>\n",
              "      <td>169</td>\n",
              "    </tr>\n",
              "    <tr>\n",
              "      <th>9</th>\n",
              "      <td>10</td>\n",
              "      <td>121</td>\n",
              "    </tr>\n",
              "  </tbody>\n",
              "</table>\n",
              "</div>\n",
              "    <div class=\"colab-df-buttons\">\n",
              "\n",
              "  <div class=\"colab-df-container\">\n",
              "    <button class=\"colab-df-convert\" onclick=\"convertToInteractive('df-fa179aea-2613-440f-83b5-cd09603bfbcf')\"\n",
              "            title=\"Convert this dataframe to an interactive table.\"\n",
              "            style=\"display:none;\">\n",
              "\n",
              "  <svg xmlns=\"http://www.w3.org/2000/svg\" height=\"24px\" viewBox=\"0 -960 960 960\">\n",
              "    <path d=\"M120-120v-720h720v720H120Zm60-500h600v-160H180v160Zm220 220h160v-160H400v160Zm0 220h160v-160H400v160ZM180-400h160v-160H180v160Zm440 0h160v-160H620v160ZM180-180h160v-160H180v160Zm440 0h160v-160H620v160Z\"/>\n",
              "  </svg>\n",
              "    </button>\n",
              "\n",
              "  <style>\n",
              "    .colab-df-container {\n",
              "      display:flex;\n",
              "      gap: 12px;\n",
              "    }\n",
              "\n",
              "    .colab-df-convert {\n",
              "      background-color: #E8F0FE;\n",
              "      border: none;\n",
              "      border-radius: 50%;\n",
              "      cursor: pointer;\n",
              "      display: none;\n",
              "      fill: #1967D2;\n",
              "      height: 32px;\n",
              "      padding: 0 0 0 0;\n",
              "      width: 32px;\n",
              "    }\n",
              "\n",
              "    .colab-df-convert:hover {\n",
              "      background-color: #E2EBFA;\n",
              "      box-shadow: 0px 1px 2px rgba(60, 64, 67, 0.3), 0px 1px 3px 1px rgba(60, 64, 67, 0.15);\n",
              "      fill: #174EA6;\n",
              "    }\n",
              "\n",
              "    .colab-df-buttons div {\n",
              "      margin-bottom: 4px;\n",
              "    }\n",
              "\n",
              "    [theme=dark] .colab-df-convert {\n",
              "      background-color: #3B4455;\n",
              "      fill: #D2E3FC;\n",
              "    }\n",
              "\n",
              "    [theme=dark] .colab-df-convert:hover {\n",
              "      background-color: #434B5C;\n",
              "      box-shadow: 0px 1px 3px 1px rgba(0, 0, 0, 0.15);\n",
              "      filter: drop-shadow(0px 1px 2px rgba(0, 0, 0, 0.3));\n",
              "      fill: #FFFFFF;\n",
              "    }\n",
              "  </style>\n",
              "\n",
              "    <script>\n",
              "      const buttonEl =\n",
              "        document.querySelector('#df-fa179aea-2613-440f-83b5-cd09603bfbcf button.colab-df-convert');\n",
              "      buttonEl.style.display =\n",
              "        google.colab.kernel.accessAllowed ? 'block' : 'none';\n",
              "\n",
              "      async function convertToInteractive(key) {\n",
              "        const element = document.querySelector('#df-fa179aea-2613-440f-83b5-cd09603bfbcf');\n",
              "        const dataTable =\n",
              "          await google.colab.kernel.invokeFunction('convertToInteractive',\n",
              "                                                    [key], {});\n",
              "        if (!dataTable) return;\n",
              "\n",
              "        const docLinkHtml = 'Like what you see? Visit the ' +\n",
              "          '<a target=\"_blank\" href=https://colab.research.google.com/notebooks/data_table.ipynb>data table notebook</a>'\n",
              "          + ' to learn more about interactive tables.';\n",
              "        element.innerHTML = '';\n",
              "        dataTable['output_type'] = 'display_data';\n",
              "        await google.colab.output.renderOutput(dataTable, element);\n",
              "        const docLink = document.createElement('div');\n",
              "        docLink.innerHTML = docLinkHtml;\n",
              "        element.appendChild(docLink);\n",
              "      }\n",
              "    </script>\n",
              "  </div>\n",
              "\n",
              "\n",
              "<div id=\"df-16df3bbc-ffb1-4512-b6ca-cd1178c7208c\">\n",
              "  <button class=\"colab-df-quickchart\" onclick=\"quickchart('df-16df3bbc-ffb1-4512-b6ca-cd1178c7208c')\"\n",
              "            title=\"Suggest charts\"\n",
              "            style=\"display:none;\">\n",
              "\n",
              "<svg xmlns=\"http://www.w3.org/2000/svg\" height=\"24px\"viewBox=\"0 0 24 24\"\n",
              "     width=\"24px\">\n",
              "    <g>\n",
              "        <path d=\"M19 3H5c-1.1 0-2 .9-2 2v14c0 1.1.9 2 2 2h14c1.1 0 2-.9 2-2V5c0-1.1-.9-2-2-2zM9 17H7v-7h2v7zm4 0h-2V7h2v10zm4 0h-2v-4h2v4z\"/>\n",
              "    </g>\n",
              "</svg>\n",
              "  </button>\n",
              "\n",
              "<style>\n",
              "  .colab-df-quickchart {\n",
              "      --bg-color: #E8F0FE;\n",
              "      --fill-color: #1967D2;\n",
              "      --hover-bg-color: #E2EBFA;\n",
              "      --hover-fill-color: #174EA6;\n",
              "      --disabled-fill-color: #AAA;\n",
              "      --disabled-bg-color: #DDD;\n",
              "  }\n",
              "\n",
              "  [theme=dark] .colab-df-quickchart {\n",
              "      --bg-color: #3B4455;\n",
              "      --fill-color: #D2E3FC;\n",
              "      --hover-bg-color: #434B5C;\n",
              "      --hover-fill-color: #FFFFFF;\n",
              "      --disabled-bg-color: #3B4455;\n",
              "      --disabled-fill-color: #666;\n",
              "  }\n",
              "\n",
              "  .colab-df-quickchart {\n",
              "    background-color: var(--bg-color);\n",
              "    border: none;\n",
              "    border-radius: 50%;\n",
              "    cursor: pointer;\n",
              "    display: none;\n",
              "    fill: var(--fill-color);\n",
              "    height: 32px;\n",
              "    padding: 0;\n",
              "    width: 32px;\n",
              "  }\n",
              "\n",
              "  .colab-df-quickchart:hover {\n",
              "    background-color: var(--hover-bg-color);\n",
              "    box-shadow: 0 1px 2px rgba(60, 64, 67, 0.3), 0 1px 3px 1px rgba(60, 64, 67, 0.15);\n",
              "    fill: var(--button-hover-fill-color);\n",
              "  }\n",
              "\n",
              "  .colab-df-quickchart-complete:disabled,\n",
              "  .colab-df-quickchart-complete:disabled:hover {\n",
              "    background-color: var(--disabled-bg-color);\n",
              "    fill: var(--disabled-fill-color);\n",
              "    box-shadow: none;\n",
              "  }\n",
              "\n",
              "  .colab-df-spinner {\n",
              "    border: 2px solid var(--fill-color);\n",
              "    border-color: transparent;\n",
              "    border-bottom-color: var(--fill-color);\n",
              "    animation:\n",
              "      spin 1s steps(1) infinite;\n",
              "  }\n",
              "\n",
              "  @keyframes spin {\n",
              "    0% {\n",
              "      border-color: transparent;\n",
              "      border-bottom-color: var(--fill-color);\n",
              "      border-left-color: var(--fill-color);\n",
              "    }\n",
              "    20% {\n",
              "      border-color: transparent;\n",
              "      border-left-color: var(--fill-color);\n",
              "      border-top-color: var(--fill-color);\n",
              "    }\n",
              "    30% {\n",
              "      border-color: transparent;\n",
              "      border-left-color: var(--fill-color);\n",
              "      border-top-color: var(--fill-color);\n",
              "      border-right-color: var(--fill-color);\n",
              "    }\n",
              "    40% {\n",
              "      border-color: transparent;\n",
              "      border-right-color: var(--fill-color);\n",
              "      border-top-color: var(--fill-color);\n",
              "    }\n",
              "    60% {\n",
              "      border-color: transparent;\n",
              "      border-right-color: var(--fill-color);\n",
              "    }\n",
              "    80% {\n",
              "      border-color: transparent;\n",
              "      border-right-color: var(--fill-color);\n",
              "      border-bottom-color: var(--fill-color);\n",
              "    }\n",
              "    90% {\n",
              "      border-color: transparent;\n",
              "      border-bottom-color: var(--fill-color);\n",
              "    }\n",
              "  }\n",
              "</style>\n",
              "\n",
              "  <script>\n",
              "    async function quickchart(key) {\n",
              "      const quickchartButtonEl =\n",
              "        document.querySelector('#' + key + ' button');\n",
              "      quickchartButtonEl.disabled = true;  // To prevent multiple clicks.\n",
              "      quickchartButtonEl.classList.add('colab-df-spinner');\n",
              "      try {\n",
              "        const charts = await google.colab.kernel.invokeFunction(\n",
              "            'suggestCharts', [key], {});\n",
              "      } catch (error) {\n",
              "        console.error('Error during call to suggestCharts:', error);\n",
              "      }\n",
              "      quickchartButtonEl.classList.remove('colab-df-spinner');\n",
              "      quickchartButtonEl.classList.add('colab-df-quickchart-complete');\n",
              "    }\n",
              "    (() => {\n",
              "      let quickchartButtonEl =\n",
              "        document.querySelector('#df-16df3bbc-ffb1-4512-b6ca-cd1178c7208c button');\n",
              "      quickchartButtonEl.style.display =\n",
              "        google.colab.kernel.accessAllowed ? 'block' : 'none';\n",
              "    })();\n",
              "  </script>\n",
              "</div>\n",
              "\n",
              "    </div>\n",
              "  </div>\n"
            ],
            "application/vnd.google.colaboratory.intrinsic+json": {
              "type": "dataframe",
              "variable_name": "df",
              "summary": "{\n  \"name\": \"df\",\n  \"rows\": 74,\n  \"fields\": [\n    {\n      \"column\": \"BBoxes per Image\",\n      \"properties\": {\n        \"dtype\": \"number\",\n        \"std\": 22,\n        \"min\": 1,\n        \"max\": 78,\n        \"num_unique_values\": 74,\n        \"samples\": [\n          5,\n          65,\n          19\n        ],\n        \"semantic_type\": \"\",\n        \"description\": \"\"\n      }\n    },\n    {\n      \"column\": \"Number of Images\",\n      \"properties\": {\n        \"dtype\": \"number\",\n        \"std\": 60,\n        \"min\": 1,\n        \"max\": 221,\n        \"num_unique_values\": 38,\n        \"samples\": [\n          17,\n          11,\n          217\n        ],\n        \"semantic_type\": \"\",\n        \"description\": \"\"\n      }\n    }\n  ]\n}"
            }
          },
          "metadata": {},
          "execution_count": 71
        }
      ]
    },
    {
      "cell_type": "markdown",
      "source": [
        "## 2. Calculate the statistics of the area of solar panels in meters (Read label readme carefully for this question)\n",
        "\n"
      ],
      "metadata": {
        "id": "GCkSp3e_D-DT"
      }
    },
    {
      "cell_type": "markdown",
      "source": [
        "### a. What method was used to compute the area (in meters) for a single instance?"
      ],
      "metadata": {
        "id": "yMIUcsVFEIdr"
      }
    },
    {
      "cell_type": "code",
      "source": [
        "# We can follow the below steps to find the area\n",
        "# 1. Since the coordinates are in yolo format convert to xyxy format\n",
        "# 2. Since the coordinates are normalized multiply the coordinates by img size\n",
        "\n",
        "sample_label_path = \"/content/labels/labels_native/solarpanels_native_1__x0_0_y0_7119_dxdy_416.txt\"\n",
        "def calculate_image_area(label_path):\n",
        "\n",
        "  # get single instance from the file\n",
        "  single_instance = open(label_path,\"r\").read().splitlines()[0].split(\" \")\n",
        "  img_width,img_height = 416,416\n",
        "  x,y,w,h = float(single_instance[1]),float(single_instance[2]),float(single_instance[3]),float(single_instance[4])\n",
        "  x1 = (x - w/2) * img_width\n",
        "  y1 = (y - h/2) * img_height\n",
        "  x2 = (x + w/2) * img_width\n",
        "  y2 = (y + h/2) * img_height\n",
        "\n",
        "  pixel_area = (x2-x1)*(y2-y1)\n",
        "  # Since its given that for native the resolution is 31cm\n",
        "  area_in_meters = pixel_area * (0.31)**2\n",
        "\n",
        "  print(f\"The area of an instance is: {round(area_in_meters,3)}\")\n",
        "\n",
        "calculate_image_area(sample_label_path)"
      ],
      "metadata": {
        "colab": {
          "base_uri": "https://localhost:8080/"
        },
        "id": "zlVZUO50EbCg",
        "outputId": "d90d6ba5-5242-4054-b611-e5513fbec537"
      },
      "execution_count": 9,
      "outputs": [
        {
          "output_type": "stream",
          "name": "stdout",
          "text": [
            "The area of an instance is: 53.047\n"
          ]
        }
      ]
    },
    {
      "cell_type": "markdown",
      "source": [
        "### b. What is the mean area and standard deviation?"
      ],
      "metadata": {
        "id": "wppjodv_Ef78"
      }
    },
    {
      "cell_type": "code",
      "source": [
        "def calculate_area(x,y,w,h):\n",
        "  img_width,img_height = 416,416\n",
        "  x1 = (x - w/2) * img_width\n",
        "  y1 = (y - h/2) * img_height\n",
        "  x2 = (x + w/2) * img_width\n",
        "  y2 = (y + h/2) * img_height\n",
        "\n",
        "  pixel_area = (x2-x1)*(y2-y1)\n",
        "  area = pixel_area * (0.31)**2\n",
        "  return area\n",
        "\n",
        "\n",
        "areas = []\n",
        "\n",
        "for file in sorted(os.listdir(label_dir)):\n",
        "\n",
        "  with open(label_dir+file,\"r\") as f:\n",
        "    boxes = f.read().splitlines()\n",
        "    for box in boxes:\n",
        "      x,y,w,h = box.split(\" \")[1:]\n",
        "      x,y,w,h = float(x),float(y),float(w),float(h)\n",
        "      areas.append(calculate_area(x,y,w,h))\n",
        "\n",
        "print(f\"The mean area is : {np.mean(np.array(areas))}\")\n",
        "print(f\"The standard deviation is : {np.std(np.array(areas))}\")"
      ],
      "metadata": {
        "colab": {
          "base_uri": "https://localhost:8080/"
        },
        "id": "0KDDnfiAE4h2",
        "outputId": "2ce994ad-5166-4722-a3e1-1efb1e5f64ec"
      },
      "execution_count": 10,
      "outputs": [
        {
          "output_type": "stream",
          "name": "stdout",
          "text": [
            "The mean area is : 191.51782786497895\n",
            "The standard deviation is : 630.7003355500087\n"
          ]
        }
      ]
    },
    {
      "cell_type": "markdown",
      "source": [
        "### c. Plot the histogram of areas. What do you observe?"
      ],
      "metadata": {
        "id": "gTt8Hc3rE63V"
      }
    },
    {
      "cell_type": "code",
      "source": [
        "plt.hist(areas,bins=50)\n",
        "plt.xlabel(\"Area in meters\")\n",
        "plt.ylabel(\"Count\")\n",
        "plt.show()"
      ],
      "metadata": {
        "colab": {
          "base_uri": "https://localhost:8080/",
          "height": 449
        },
        "id": "OIcb1oiQFDUm",
        "outputId": "5eb51ed2-fe97-463a-dcd9-4e5252dcb5ae"
      },
      "execution_count": 11,
      "outputs": [
        {
          "output_type": "display_data",
          "data": {
            "text/plain": [
              "<Figure size 640x480 with 1 Axes>"
            ],
            "image/png": "[encoded data removed]"
          },
          "metadata": {}
        }
      ]
    },
    {
      "cell_type": "code",
      "source": [
        "np.percentile(np.array(areas),q=90)"
      ],
      "metadata": {
        "colab": {
          "base_uri": "https://localhost:8080/"
        },
        "id": "U4a3d1SgFFGJ",
        "outputId": "79ce53ee-25f4-4ca7-ed83-fff129339202"
      },
      "execution_count": 19,
      "outputs": [
        {
          "output_type": "execute_result",
          "data": {
            "text/plain": [
              "306.8472999999999"
            ]
          },
          "metadata": {},
          "execution_count": 19
        }
      ]
    },
    {
      "cell_type": "markdown",
      "source": [
        "#### Based on the histogram plots and percentile calculation, we can clearly observe that of all the instances in the dataset, about 90% of the bounding boxes have an area less than **306 m<sup>2</sup>**\n"
      ],
      "metadata": {
        "id": "u5YGuqkFFHKa"
      }
    },
    {
      "cell_type": "code",
      "source": [],
      "metadata": {
        "id": "syza9d93ancB"
      },
      "execution_count": null,
      "outputs": []
    }
  ]
}